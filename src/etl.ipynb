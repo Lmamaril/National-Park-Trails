{
 "cells": [
  {
   "cell_type": "markdown",
   "metadata": {},
   "source": [
    "# National Park Trails ETL\n",
    "This notebook is a helper file for etl processing into the database.\n",
    "\n",
    "## Part I. View the Data"
   ]
  },
  {
   "cell_type": "code",
   "execution_count": 2,
   "metadata": {},
   "outputs": [],
   "source": [
    "# import packages\n",
    "\n",
    "import pandas as pd\n",
    "import cassandra"
   ]
  },
  {
   "cell_type": "code",
   "execution_count": 3,
   "metadata": {},
   "outputs": [
    {
     "name": "stdout",
     "output_type": "stream",
     "text": [
      "<class 'pandas.core.frame.DataFrame'>\n",
      "RangeIndex: 3313 entries, 0 to 3312\n",
      "Data columns (total 18 columns):\n",
      " #   Column             Non-Null Count  Dtype  \n",
      "---  ------             --------------  -----  \n",
      " 0   trail_id           3313 non-null   int64  \n",
      " 1   name               3313 non-null   object \n",
      " 2   area_name          3313 non-null   object \n",
      " 3   city_name          3313 non-null   object \n",
      " 4   state_name         3313 non-null   object \n",
      " 5   country_name       3313 non-null   object \n",
      " 6   _geoloc            3313 non-null   object \n",
      " 7   popularity         3313 non-null   float64\n",
      " 8   length             3313 non-null   float64\n",
      " 9   elevation_gain     3313 non-null   float64\n",
      " 10  difficulty_rating  3313 non-null   int64  \n",
      " 11  route_type         3313 non-null   object \n",
      " 12  visitor_usage      3060 non-null   float64\n",
      " 13  avg_rating         3313 non-null   float64\n",
      " 14  num_reviews        3313 non-null   int64  \n",
      " 15  features           3313 non-null   object \n",
      " 16  activities         3313 non-null   object \n",
      " 17  units              3313 non-null   object \n",
      "dtypes: float64(5), int64(3), object(10)\n",
      "memory usage: 466.0+ KB\n"
     ]
    }
   ],
   "source": [
    "df = pd.read_csv(\"../data/alltrails-nationalpark.csv\")\n",
    "df.info()"
   ]
  },
  {
   "cell_type": "code",
   "execution_count": 4,
   "metadata": {
    "scrolled": true
   },
   "outputs": [
    {
     "data": {
      "text/html": [
       "<div>\n",
       "<style scoped>\n",
       "    .dataframe tbody tr th:only-of-type {\n",
       "        vertical-align: middle;\n",
       "    }\n",
       "\n",
       "    .dataframe tbody tr th {\n",
       "        vertical-align: top;\n",
       "    }\n",
       "\n",
       "    .dataframe thead th {\n",
       "        text-align: right;\n",
       "    }\n",
       "</style>\n",
       "<table border=\"1\" class=\"dataframe\">\n",
       "  <thead>\n",
       "    <tr style=\"text-align: right;\">\n",
       "      <th></th>\n",
       "      <th>trail_id</th>\n",
       "      <th>name</th>\n",
       "      <th>area_name</th>\n",
       "      <th>city_name</th>\n",
       "      <th>state_name</th>\n",
       "      <th>country_name</th>\n",
       "      <th>_geoloc</th>\n",
       "      <th>popularity</th>\n",
       "      <th>length</th>\n",
       "      <th>elevation_gain</th>\n",
       "      <th>difficulty_rating</th>\n",
       "      <th>route_type</th>\n",
       "      <th>visitor_usage</th>\n",
       "      <th>avg_rating</th>\n",
       "      <th>num_reviews</th>\n",
       "      <th>features</th>\n",
       "      <th>activities</th>\n",
       "      <th>units</th>\n",
       "    </tr>\n",
       "  </thead>\n",
       "  <tbody>\n",
       "    <tr>\n",
       "      <th>0</th>\n",
       "      <td>10020048</td>\n",
       "      <td>Harding Ice Field Trail</td>\n",
       "      <td>Kenai Fjords National Park</td>\n",
       "      <td>Seward</td>\n",
       "      <td>Alaska</td>\n",
       "      <td>United States</td>\n",
       "      <td>{'lat': 60.18852, 'lng': -149.63156}</td>\n",
       "      <td>24.8931</td>\n",
       "      <td>15610.598</td>\n",
       "      <td>1161.8976</td>\n",
       "      <td>5</td>\n",
       "      <td>out and back</td>\n",
       "      <td>3.0</td>\n",
       "      <td>5.0</td>\n",
       "      <td>423</td>\n",
       "      <td>['dogs-no', 'forest', 'river', 'views', 'water...</td>\n",
       "      <td>['birding', 'camping', 'hiking', 'nature-trips...</td>\n",
       "      <td>i</td>\n",
       "    </tr>\n",
       "    <tr>\n",
       "      <th>1</th>\n",
       "      <td>10236086</td>\n",
       "      <td>Mount Healy Overlook Trail</td>\n",
       "      <td>Denali National Park</td>\n",
       "      <td>Denali National Park</td>\n",
       "      <td>Alaska</td>\n",
       "      <td>United States</td>\n",
       "      <td>{'lat': 63.73049, 'lng': -148.91968}</td>\n",
       "      <td>18.0311</td>\n",
       "      <td>6920.162</td>\n",
       "      <td>507.7968</td>\n",
       "      <td>3</td>\n",
       "      <td>out and back</td>\n",
       "      <td>1.0</td>\n",
       "      <td>4.5</td>\n",
       "      <td>260</td>\n",
       "      <td>['dogs-no', 'forest', 'views', 'wild-flowers',...</td>\n",
       "      <td>['birding', 'camping', 'hiking', 'nature-trips...</td>\n",
       "      <td>i</td>\n",
       "    </tr>\n",
       "  </tbody>\n",
       "</table>\n",
       "</div>"
      ],
      "text/plain": [
       "   trail_id                        name                   area_name  \\\n",
       "0  10020048     Harding Ice Field Trail  Kenai Fjords National Park   \n",
       "1  10236086  Mount Healy Overlook Trail        Denali National Park   \n",
       "\n",
       "              city_name state_name   country_name  \\\n",
       "0                Seward     Alaska  United States   \n",
       "1  Denali National Park     Alaska  United States   \n",
       "\n",
       "                                _geoloc  popularity     length  \\\n",
       "0  {'lat': 60.18852, 'lng': -149.63156}     24.8931  15610.598   \n",
       "1  {'lat': 63.73049, 'lng': -148.91968}     18.0311   6920.162   \n",
       "\n",
       "   elevation_gain  difficulty_rating    route_type  visitor_usage  avg_rating  \\\n",
       "0       1161.8976                  5  out and back            3.0         5.0   \n",
       "1        507.7968                  3  out and back            1.0         4.5   \n",
       "\n",
       "   num_reviews                                           features  \\\n",
       "0          423  ['dogs-no', 'forest', 'river', 'views', 'water...   \n",
       "1          260  ['dogs-no', 'forest', 'views', 'wild-flowers',...   \n",
       "\n",
       "                                          activities units  \n",
       "0  ['birding', 'camping', 'hiking', 'nature-trips...     i  \n",
       "1  ['birding', 'camping', 'hiking', 'nature-trips...     i  "
      ]
     },
     "execution_count": 4,
     "metadata": {},
     "output_type": "execute_result"
    }
   ],
   "source": [
    "df.head(2)"
   ]
  },
  {
   "cell_type": "markdown",
   "metadata": {},
   "source": [
    "## Set up Apache Cassandra\n",
    "\n",
    "* Creating a cluster\n",
    "* Creating and setting up the keyspace\n"
   ]
  },
  {
   "cell_type": "code",
   "execution_count": 5,
   "metadata": {},
   "outputs": [],
   "source": [
    "from cassandra.cluster import Cluster\n",
    "\n",
    "# create the cluster to connect to the Cassandra instance\n",
    "cluster = Cluster(['127.0.0.1'])\n",
    "\n",
    "# create the connection\n",
    "session = cluster.connect()"
   ]
  },
  {
   "cell_type": "code",
   "execution_count": 1,
   "metadata": {},
   "outputs": [],
   "source": [
    "# create the keyspace\n",
    "create_keyspace = \"\"\"\n",
    "    CREATE KEYSPACE IF NOT EXISTS np_trails\n",
    "    WITH replication = \n",
    "    {'class' : 'SimpleStrategy', 'replication_factor' : 1}\n",
    "    \"\"\"\n",
    "\n",
    "try:\n",
    "    session.execute(create_keyspace)\n",
    "except Exception as er:\n",
    "    print(er)"
   ]
  },
  {
   "cell_type": "code",
   "execution_count": 6,
   "metadata": {},
   "outputs": [],
   "source": [
    "# set the keyspace\n",
    "session.set_keyspace('np_trails')"
   ]
  },
  {
   "cell_type": "markdown",
   "metadata": {},
   "source": [
    "## Setup Queries\n",
    "Writing a list of questions that would be needed to decipher how to create the Cassandra tables.\n",
    "\n",
    "1. What is the most popular national park trail?\n",
    "2. Which 6 national parks have a trail that is considered to have the highest elevation gain amongst other parks?\n",
    "3. List medium hikes (level 2 or 3) located in Arizona. "
   ]
  },
  {
   "cell_type": "code",
   "execution_count": 75,
   "metadata": {},
   "outputs": [],
   "source": [
    "# Drop Table\n",
    "def drop_table(table_name):\n",
    "    drop_table_query = \"DROP TABLE {}\".format(table_name)\n",
    "    try:\n",
    "        session.execute(drop_table_query)\n",
    "    except Exception as er:\n",
    "        print(er)"
   ]
  },
  {
   "cell_type": "markdown",
   "metadata": {},
   "source": [
    "#### Query 1: What is the most popular national park?"
   ]
  },
  {
   "cell_type": "code",
   "execution_count": 77,
   "metadata": {},
   "outputs": [],
   "source": [
    "drop_table(\"trail_popularity\")\n",
    "\n",
    "create_table_query = \"\"\"\n",
    "    CREATE TABLE IF NOT EXISTS trail_popularity \n",
    "    (name TEXT, area_name TEXT, popularity FLOAT, \n",
    "    PRIMARY KEY(name, popularity)) WITH CLUSTERING ORDER BY (popularity DESC)\n",
    "    \"\"\"\n",
    "\n",
    "try:\n",
    "    session.execute(create_table_query)\n",
    "except Exception as er:\n",
    "    print(er)"
   ]
  },
  {
   "cell_type": "code",
   "execution_count": 79,
   "metadata": {
    "scrolled": false
   },
   "outputs": [],
   "source": [
    "# load data into the popularity tables\n",
    "load_query = \"\"\"\n",
    "    INSERT INTO trail_popularity (name, area_name, popularity) \n",
    "    VALUES (%s, %s, %s)\n",
    "    \"\"\"\n",
    "\n",
    "for idx, row in df.iterrows():\n",
    "    session.execute(load_query, (row['name'], row['area_name'], row.popularity))"
   ]
  },
  {
   "cell_type": "code",
   "execution_count": 80,
   "metadata": {},
   "outputs": [
    {
     "data": {
      "text/html": [
       "<div>\n",
       "<style scoped>\n",
       "    .dataframe tbody tr th:only-of-type {\n",
       "        vertical-align: middle;\n",
       "    }\n",
       "\n",
       "    .dataframe tbody tr th {\n",
       "        vertical-align: top;\n",
       "    }\n",
       "\n",
       "    .dataframe thead th {\n",
       "        text-align: right;\n",
       "    }\n",
       "</style>\n",
       "<table border=\"1\" class=\"dataframe\">\n",
       "  <thead>\n",
       "    <tr style=\"text-align: right;\">\n",
       "      <th></th>\n",
       "      <th>trail_name</th>\n",
       "      <th>park_name</th>\n",
       "      <th>popularity</th>\n",
       "    </tr>\n",
       "  </thead>\n",
       "  <tbody>\n",
       "    <tr>\n",
       "      <th>0</th>\n",
       "      <td>Cottonwood-Marble Canyon Loop</td>\n",
       "      <td>9.985</td>\n",
       "      <td>Death Valley National Park</td>\n",
       "    </tr>\n",
       "  </tbody>\n",
       "</table>\n",
       "</div>"
      ],
      "text/plain": [
       "                      trail_name  park_name                  popularity\n",
       "0  Cottonwood-Marble Canyon Loop      9.985  Death Valley National Park"
      ]
     },
     "execution_count": 80,
     "metadata": {},
     "output_type": "execute_result"
    }
   ],
   "source": [
    "# query the data\n",
    "select_query = \"SELECT * FROM trail_popularity LIMIT 2\"\n",
    "try:\n",
    "    data = session.execute(select_query)\n",
    "except Exception as er:\n",
    "    print(er)\n",
    "most_popular_trail = ([list(data.one())])  \n",
    "pd.DataFrame(most_popular_trail,columns = ['trail_name', 'park_name', 'popularity'])"
   ]
  },
  {
   "cell_type": "markdown",
   "metadata": {},
   "source": [
    "#### Query 2: Which 6 national parks have a trail that is considered to have the highest elevation gain amongst other parks?"
   ]
  },
  {
   "cell_type": "code",
   "execution_count": 154,
   "metadata": {},
   "outputs": [],
   "source": [
    "drop_table(\"top_elevation_gain_parks\")"
   ]
  },
  {
   "cell_type": "code",
   "execution_count": 156,
   "metadata": {},
   "outputs": [],
   "source": [
    "create_table_query = \"\"\"\n",
    "    CREATE TABLE IF NOT EXISTS top_elevation_gain_parks \n",
    "    (area_name TEXT, elevation_gain FLOAT, \n",
    "    PRIMARY KEY(area_name, elevation_gain));\n",
    "    \"\"\"\n",
    "\n",
    "try:\n",
    "    session.execute(create_table_query)\n",
    "except Exception as er:\n",
    "    print(er)"
   ]
  },
  {
   "cell_type": "code",
   "execution_count": 162,
   "metadata": {},
   "outputs": [],
   "source": [
    "# load data into the top_elevation_gain_parks table\n",
    "load_query = \"\"\"\n",
    "    INSERT INTO top_elevation_gain_parks (area_name, elevation_gain) \n",
    "    VALUES (%s, %s)\n",
    "    \"\"\"\n",
    "\n",
    "for idx, row in df.iterrows():\n",
    "    session.execute(load_query, (row['area_name'], row['elevation_gain']))"
   ]
  },
  {
   "cell_type": "code",
   "execution_count": 166,
   "metadata": {},
   "outputs": [
    {
     "data": {
      "text/html": [
       "<div>\n",
       "<style scoped>\n",
       "    .dataframe tbody tr th:only-of-type {\n",
       "        vertical-align: middle;\n",
       "    }\n",
       "\n",
       "    .dataframe tbody tr th {\n",
       "        vertical-align: top;\n",
       "    }\n",
       "\n",
       "    .dataframe thead th {\n",
       "        text-align: right;\n",
       "    }\n",
       "</style>\n",
       "<table border=\"1\" class=\"dataframe\">\n",
       "  <thead>\n",
       "    <tr style=\"text-align: right;\">\n",
       "      <th></th>\n",
       "      <th>park</th>\n",
       "      <th>max_elevation_gain</th>\n",
       "    </tr>\n",
       "  </thead>\n",
       "  <tbody>\n",
       "    <tr>\n",
       "      <th>2</th>\n",
       "      <td>Yosemite National Park</td>\n",
       "      <td>14029.944336</td>\n",
       "    </tr>\n",
       "    <tr>\n",
       "      <th>27</th>\n",
       "      <td>Kings Canyon National Park</td>\n",
       "      <td>10944.758789</td>\n",
       "    </tr>\n",
       "    <tr>\n",
       "      <th>50</th>\n",
       "      <td>Olympic National Park</td>\n",
       "      <td>8369.807617</td>\n",
       "    </tr>\n",
       "    <tr>\n",
       "      <th>47</th>\n",
       "      <td>Shenandoah National Park</td>\n",
       "      <td>8115.909668</td>\n",
       "    </tr>\n",
       "    <tr>\n",
       "      <th>31</th>\n",
       "      <td>Mount Rainier National Park</td>\n",
       "      <td>7752.892578</td>\n",
       "    </tr>\n",
       "    <tr>\n",
       "      <th>58</th>\n",
       "      <td>Glacier National Park</td>\n",
       "      <td>5697.931152</td>\n",
       "    </tr>\n",
       "  </tbody>\n",
       "</table>\n",
       "</div>"
      ],
      "text/plain": [
       "                           park  max_elevation_gain\n",
       "2        Yosemite National Park        14029.944336\n",
       "27   Kings Canyon National Park        10944.758789\n",
       "50        Olympic National Park         8369.807617\n",
       "47     Shenandoah National Park         8115.909668\n",
       "31  Mount Rainier National Park         7752.892578\n",
       "58        Glacier National Park         5697.931152"
      ]
     },
     "execution_count": 166,
     "metadata": {},
     "output_type": "execute_result"
    }
   ],
   "source": [
    "# query the data\n",
    "select_query = \"\"\"\n",
    "    SELECT area_name, MAX(elevation_gain) AS max\n",
    "    FROM top_elevation_gain_parks \n",
    "    GROUP BY area_name\n",
    "    \"\"\"\n",
    "try:\n",
    "    result = session.execute(select_query)\n",
    "except Exception as er:\n",
    "    print(er)    \n",
    "    \n",
    "data = list(map(lambda row: list(row), result))\n",
    "df = pd.DataFrame(data, columns = ['park', 'max_elevation_gain'])\n",
    "df.sort_values('max_elevation_gain', ascending = False).iloc[0:6]"
   ]
  },
  {
   "cell_type": "markdown",
   "metadata": {},
   "source": [
    "#### Query 3: List medium hikes (level 2 or 3) located in Arizona. "
   ]
  },
  {
   "cell_type": "code",
   "execution_count": 8,
   "metadata": {},
   "outputs": [
    {
     "ename": "NameError",
     "evalue": "name 'drop_table' is not defined",
     "output_type": "error",
     "traceback": [
      "\u001b[0;31m---------------------------------------------------------------------------\u001b[0m",
      "\u001b[0;31mNameError\u001b[0m                                 Traceback (most recent call last)",
      "\u001b[0;32m<ipython-input-8-271ebe8030ba>\u001b[0m in \u001b[0;36m<module>\u001b[0;34m\u001b[0m\n\u001b[0;32m----> 1\u001b[0;31m \u001b[0mdrop_table\u001b[0m\u001b[0;34m(\u001b[0m\u001b[0;34m\"medium_trails_in_arizona\"\u001b[0m\u001b[0;34m)\u001b[0m\u001b[0;34m\u001b[0m\u001b[0;34m\u001b[0m\u001b[0m\n\u001b[0m",
      "\u001b[0;31mNameError\u001b[0m: name 'drop_table' is not defined"
     ]
    }
   ],
   "source": [
    "drop_table(\"medium_trails_in_arizona\")"
   ]
  },
  {
   "cell_type": "code",
   "execution_count": 11,
   "metadata": {},
   "outputs": [],
   "source": [
    "create_table_query = \"\"\"\n",
    "    CREATE TABLE IF NOT EXISTS medium_trails_in_arizona\n",
    "    (name TEXT, area_name TEXT, state_name TEXT, difficulty_rating FLOAT, \n",
    "    PRIMARY KEY (name));\n",
    "    \"\"\"\n",
    "\n",
    "try:\n",
    "    session.execute(create_table_query)\n",
    "except Exception as er:\n",
    "    print(er)"
   ]
  },
  {
   "cell_type": "code",
   "execution_count": null,
   "metadata": {},
   "outputs": [],
   "source": []
  }
 ],
 "metadata": {
  "kernelspec": {
   "display_name": "Python 3",
   "language": "python",
   "name": "python3"
  },
  "language_info": {
   "codemirror_mode": {
    "name": "ipython",
    "version": 3
   },
   "file_extension": ".py",
   "mimetype": "text/x-python",
   "name": "python",
   "nbconvert_exporter": "python",
   "pygments_lexer": "ipython3",
   "version": "3.8.2"
  }
 },
 "nbformat": 4,
 "nbformat_minor": 4
}
