{
 "cells": [
  {
   "cell_type": "markdown",
   "metadata": {},
   "source": [
    "# National Park Trails ETL\n",
    "This notebook is a helper file for setting etl processing into the database.\n",
    "\n",
    "## Part I. View the Data"
   ]
  },
  {
   "cell_type": "code",
   "execution_count": 8,
   "metadata": {},
   "outputs": [],
   "source": [
    "# import packages\n",
    "\n",
    "import pandas as pd\n",
    "import cassandra"
   ]
  },
  {
   "cell_type": "code",
   "execution_count": 5,
   "metadata": {
    "scrolled": true
   },
   "outputs": [
    {
     "name": "stdout",
     "output_type": "stream",
     "text": [
      "<class 'pandas.core.frame.DataFrame'>\n",
      "RangeIndex: 3313 entries, 0 to 3312\n",
      "Data columns (total 18 columns):\n",
      " #   Column             Non-Null Count  Dtype  \n",
      "---  ------             --------------  -----  \n",
      " 0   trail_id           3313 non-null   int64  \n",
      " 1   name               3313 non-null   object \n",
      " 2   area_name          3313 non-null   object \n",
      " 3   city_name          3313 non-null   object \n",
      " 4   state_name         3313 non-null   object \n",
      " 5   country_name       3313 non-null   object \n",
      " 6   _geoloc            3313 non-null   object \n",
      " 7   popularity         3313 non-null   float64\n",
      " 8   length             3313 non-null   float64\n",
      " 9   elevation_gain     3313 non-null   float64\n",
      " 10  difficulty_rating  3313 non-null   int64  \n",
      " 11  route_type         3313 non-null   object \n",
      " 12  visitor_usage      3060 non-null   float64\n",
      " 13  avg_rating         3313 non-null   float64\n",
      " 14  num_reviews        3313 non-null   int64  \n",
      " 15  features           3313 non-null   object \n",
      " 16  activities         3313 non-null   object \n",
      " 17  units              3313 non-null   object \n",
      "dtypes: float64(5), int64(3), object(10)\n",
      "memory usage: 466.0+ KB\n"
     ]
    }
   ],
   "source": [
    "df = pd.read_csv(\"../data/alltrails-nationalpark.csv\")\n",
    "df.info()"
   ]
  },
  {
   "cell_type": "markdown",
   "metadata": {},
   "source": [
    "## Set up Apache Cassandra\n",
    "\n",
    "* Creating a cluster\n",
    "* Creating and setting up the keyspace\n"
   ]
  },
  {
   "cell_type": "code",
   "execution_count": 1,
   "metadata": {},
   "outputs": [],
   "source": [
    "from cassandra.cluster import Cluster\n",
    "\n",
    "# create the cluster to connect to the Cassandra instance\n",
    "cluster = Cluster(['127.0.0.1'])\n",
    "\n",
    "# create the connection\n",
    "session = cluster.connect()\n",
    "\n",
    "# create the keyspace\n",
    "create_keyspace = \"\"\"\n",
    "    CREATE KEYSPACE IF NOT EXISTS np_trails\n",
    "    WITH replication = \n",
    "    {'class' : 'SimpleStrategy', 'replication_factor' : 1}\n",
    "\"\"\"\n",
    "\n",
    "try:\n",
    "    session.execute(create_keyspace)\n",
    "except Exception as er:\n",
    "    print(er)"
   ]
  },
  {
   "cell_type": "code",
   "execution_count": 3,
   "metadata": {},
   "outputs": [],
   "source": [
    "# set the keyspace\n",
    "session.set_keyspace('np_trails')"
   ]
  },
  {
   "cell_type": "code",
   "execution_count": null,
   "metadata": {},
   "outputs": [],
   "source": []
  }
 ],
 "metadata": {
  "kernelspec": {
   "display_name": "Python 3",
   "language": "python",
   "name": "python3"
  },
  "language_info": {
   "codemirror_mode": {
    "name": "ipython",
    "version": 3
   },
   "file_extension": ".py",
   "mimetype": "text/x-python",
   "name": "python",
   "nbconvert_exporter": "python",
   "pygments_lexer": "ipython3",
   "version": "3.8.2"
  }
 },
 "nbformat": 4,
 "nbformat_minor": 4
}
